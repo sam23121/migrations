{
 "cells": [
  {
   "cell_type": "code",
   "execution_count": 24,
   "metadata": {},
   "outputs": [],
   "source": [
    "import pandas as pd\n",
    "import numpy as np"
   ]
  },
  {
   "cell_type": "code",
   "execution_count": 2,
   "metadata": {},
   "outputs": [],
   "source": [
    "col_names = ['track_id', ' type', ' traveled_d', ' avg_speed', ' lat', ' lon',' speed', ' lon_acc', ' lat_acc', ' time']\n"
   ]
  },
  {
   "cell_type": "code",
   "execution_count": 25,
   "metadata": {},
   "outputs": [
    {
     "name": "stderr",
     "output_type": "stream",
     "text": [
      "/tmp/ipykernel_31140/3679563474.py:1: ParserWarning: Falling back to the 'python' engine because the 'c' engine does not support regex separators (separators > 1 char and different from '\\s+' are interpreted as regex); you can avoid this warning by specifying engine='python'.\n",
      "  df = pd.read_csv(\"../data/20181029_d1_0800_0830.csv\", sep=\"[,;:]\", index_col=False, on_bad_lines='skip')\n",
      "/tmp/ipykernel_31140/3679563474.py:1: ParserWarning: Length of header or names does not match length of data. This leads to a loss of data with index_col=False.\n",
      "  df = pd.read_csv(\"../data/20181029_d1_0800_0830.csv\", sep=\"[,;:]\", index_col=False, on_bad_lines='skip')\n"
     ]
    }
   ],
   "source": [
    "df = pd.read_csv(\"../data/20181029_d1_0800_0830.csv\", sep=\"[,;:]\", index_col=False, on_bad_lines='skip')"
   ]
  },
  {
   "cell_type": "code",
   "execution_count": 26,
   "metadata": {},
   "outputs": [
    {
     "data": {
      "text/plain": [
       "<bound method IndexOpsMixin.tolist of Index(['track_id', ' type', ' traveled_d', ' avg_speed', ' lat', ' lon',\n",
       "       ' speed', ' lon_acc', ' lat_acc', ' time'],\n",
       "      dtype='object')>"
      ]
     },
     "execution_count": 26,
     "metadata": {},
     "output_type": "execute_result"
    }
   ],
   "source": [
    "df.columns.to_list"
   ]
  },
  {
   "cell_type": "code",
   "execution_count": null,
   "metadata": {},
   "outputs": [],
   "source": [
    "df.dropna()"
   ]
  },
  {
   "cell_type": "code",
   "execution_count": 27,
   "metadata": {},
   "outputs": [
    {
     "data": {
      "text/html": [
       "<div>\n",
       "<style scoped>\n",
       "    .dataframe tbody tr th:only-of-type {\n",
       "        vertical-align: middle;\n",
       "    }\n",
       "\n",
       "    .dataframe tbody tr th {\n",
       "        vertical-align: top;\n",
       "    }\n",
       "\n",
       "    .dataframe thead th {\n",
       "        text-align: right;\n",
       "    }\n",
       "</style>\n",
       "<table border=\"1\" class=\"dataframe\">\n",
       "  <thead>\n",
       "    <tr style=\"text-align: right;\">\n",
       "      <th></th>\n",
       "      <th>track_id</th>\n",
       "      <th>type</th>\n",
       "      <th>traveled_d</th>\n",
       "      <th>avg_speed</th>\n",
       "      <th>lat</th>\n",
       "      <th>lon</th>\n",
       "      <th>speed</th>\n",
       "      <th>lon_acc</th>\n",
       "      <th>lat_acc</th>\n",
       "      <th>time</th>\n",
       "    </tr>\n",
       "  </thead>\n",
       "  <tbody>\n",
       "    <tr>\n",
       "      <th>0</th>\n",
       "      <td>1</td>\n",
       "      <td>Car</td>\n",
       "      <td>25.59</td>\n",
       "      <td>5.549289</td>\n",
       "      <td>37.977353</td>\n",
       "      <td>23.737695</td>\n",
       "      <td>0.0000</td>\n",
       "      <td>0.0000</td>\n",
       "      <td>0.0000</td>\n",
       "      <td>0.0</td>\n",
       "    </tr>\n",
       "    <tr>\n",
       "      <th>1</th>\n",
       "      <td>2</td>\n",
       "      <td>Car</td>\n",
       "      <td>103.37</td>\n",
       "      <td>18.985780</td>\n",
       "      <td>37.978027</td>\n",
       "      <td>23.737237</td>\n",
       "      <td>19.5936</td>\n",
       "      <td>-0.0688</td>\n",
       "      <td>-0.8172</td>\n",
       "      <td>0.0</td>\n",
       "    </tr>\n",
       "    <tr>\n",
       "      <th>2</th>\n",
       "      <td>3</td>\n",
       "      <td>Motorcycle</td>\n",
       "      <td>130.36</td>\n",
       "      <td>32.589339</td>\n",
       "      <td>37.978110</td>\n",
       "      <td>23.737129</td>\n",
       "      <td>0.0053</td>\n",
       "      <td>0.0083</td>\n",
       "      <td>0.0000</td>\n",
       "      <td>0.0</td>\n",
       "    </tr>\n",
       "    <tr>\n",
       "      <th>3</th>\n",
       "      <td>4</td>\n",
       "      <td>Motorcycle</td>\n",
       "      <td>160.70</td>\n",
       "      <td>26.537342</td>\n",
       "      <td>37.978128</td>\n",
       "      <td>23.737149</td>\n",
       "      <td>0.0022</td>\n",
       "      <td>0.0031</td>\n",
       "      <td>-0.0000</td>\n",
       "      <td>0.0</td>\n",
       "    </tr>\n",
       "    <tr>\n",
       "      <th>4</th>\n",
       "      <td>5</td>\n",
       "      <td>Car</td>\n",
       "      <td>164.14</td>\n",
       "      <td>26.379138</td>\n",
       "      <td>37.978152</td>\n",
       "      <td>23.737110</td>\n",
       "      <td>0.0015</td>\n",
       "      <td>0.0024</td>\n",
       "      <td>-0.0000</td>\n",
       "      <td>0.0</td>\n",
       "    </tr>\n",
       "  </tbody>\n",
       "</table>\n",
       "</div>"
      ],
      "text/plain": [
       "   track_id         type   traveled_d   avg_speed        lat        lon  \\\n",
       "0         1          Car        25.59    5.549289  37.977353  23.737695   \n",
       "1         2          Car       103.37   18.985780  37.978027  23.737237   \n",
       "2         3   Motorcycle       130.36   32.589339  37.978110  23.737129   \n",
       "3         4   Motorcycle       160.70   26.537342  37.978128  23.737149   \n",
       "4         5          Car       164.14   26.379138  37.978152  23.737110   \n",
       "\n",
       "     speed   lon_acc   lat_acc   time  \n",
       "0   0.0000    0.0000    0.0000    0.0  \n",
       "1  19.5936   -0.0688   -0.8172    0.0  \n",
       "2   0.0053    0.0083    0.0000    0.0  \n",
       "3   0.0022    0.0031   -0.0000    0.0  \n",
       "4   0.0015    0.0024   -0.0000    0.0  "
      ]
     },
     "execution_count": 27,
     "metadata": {},
     "output_type": "execute_result"
    }
   ],
   "source": [
    "df.head()"
   ]
  },
  {
   "cell_type": "code",
   "execution_count": 28,
   "metadata": {},
   "outputs": [
    {
     "data": {
      "text/plain": [
       "(761, 10)"
      ]
     },
     "execution_count": 28,
     "metadata": {},
     "output_type": "execute_result"
    }
   ],
   "source": [
    "df.shape"
   ]
  },
  {
   "cell_type": "code",
   "execution_count": 29,
   "metadata": {},
   "outputs": [],
   "source": [
    "df.to_csv('../data/objects.csv', index=False)"
   ]
  },
  {
   "cell_type": "code",
   "execution_count": 30,
   "metadata": {},
   "outputs": [],
   "source": [
    "df2 = pd.read_csv('../data/objects.csv')"
   ]
  },
  {
   "cell_type": "code",
   "execution_count": 31,
   "metadata": {},
   "outputs": [
    {
     "data": {
      "text/html": [
       "<div>\n",
       "<style scoped>\n",
       "    .dataframe tbody tr th:only-of-type {\n",
       "        vertical-align: middle;\n",
       "    }\n",
       "\n",
       "    .dataframe tbody tr th {\n",
       "        vertical-align: top;\n",
       "    }\n",
       "\n",
       "    .dataframe thead th {\n",
       "        text-align: right;\n",
       "    }\n",
       "</style>\n",
       "<table border=\"1\" class=\"dataframe\">\n",
       "  <thead>\n",
       "    <tr style=\"text-align: right;\">\n",
       "      <th></th>\n",
       "      <th>track_id</th>\n",
       "      <th>type</th>\n",
       "      <th>traveled_d</th>\n",
       "      <th>avg_speed</th>\n",
       "      <th>lat</th>\n",
       "      <th>lon</th>\n",
       "      <th>speed</th>\n",
       "      <th>lon_acc</th>\n",
       "      <th>lat_acc</th>\n",
       "      <th>time</th>\n",
       "    </tr>\n",
       "  </thead>\n",
       "  <tbody>\n",
       "    <tr>\n",
       "      <th>756</th>\n",
       "      <td>757</td>\n",
       "      <td>Car</td>\n",
       "      <td>57.09</td>\n",
       "      <td>29.358675</td>\n",
       "      <td>37.980713</td>\n",
       "      <td>23.734982</td>\n",
       "      <td>29.2432</td>\n",
       "      <td>-0.0731</td>\n",
       "      <td>-0.0043</td>\n",
       "      <td>758.0</td>\n",
       "    </tr>\n",
       "    <tr>\n",
       "      <th>757</th>\n",
       "      <td>758</td>\n",
       "      <td>Car</td>\n",
       "      <td>47.69</td>\n",
       "      <td>26.012926</td>\n",
       "      <td>37.980720</td>\n",
       "      <td>23.734926</td>\n",
       "      <td>26.1715</td>\n",
       "      <td>0.0000</td>\n",
       "      <td>0.0000</td>\n",
       "      <td>758.4</td>\n",
       "    </tr>\n",
       "    <tr>\n",
       "      <th>758</th>\n",
       "      <td>759</td>\n",
       "      <td>Medium Vehicle</td>\n",
       "      <td>42.37</td>\n",
       "      <td>29.335799</td>\n",
       "      <td>37.978296</td>\n",
       "      <td>23.735320</td>\n",
       "      <td>30.6186</td>\n",
       "      <td>0.0266</td>\n",
       "      <td>-0.2295</td>\n",
       "      <td>759.8</td>\n",
       "    </tr>\n",
       "    <tr>\n",
       "      <th>759</th>\n",
       "      <td>760</td>\n",
       "      <td>Taxi</td>\n",
       "      <td>26.09</td>\n",
       "      <td>27.626198</td>\n",
       "      <td>37.978293</td>\n",
       "      <td>23.735308</td>\n",
       "      <td>29.5630</td>\n",
       "      <td>0.0226</td>\n",
       "      <td>-0.0522</td>\n",
       "      <td>761.6</td>\n",
       "    </tr>\n",
       "    <tr>\n",
       "      <th>760</th>\n",
       "      <td>761</td>\n",
       "      <td>Car</td>\n",
       "      <td>5.64</td>\n",
       "      <td>25.387158</td>\n",
       "      <td>37.978300</td>\n",
       "      <td>23.735303</td>\n",
       "      <td>26.7233</td>\n",
       "      <td>-0.0000</td>\n",
       "      <td>0.0000</td>\n",
       "      <td>764.2</td>\n",
       "    </tr>\n",
       "  </tbody>\n",
       "</table>\n",
       "</div>"
      ],
      "text/plain": [
       "     track_id             type   traveled_d   avg_speed        lat        lon  \\\n",
       "756       757              Car        57.09   29.358675  37.980713  23.734982   \n",
       "757       758              Car        47.69   26.012926  37.980720  23.734926   \n",
       "758       759   Medium Vehicle        42.37   29.335799  37.978296  23.735320   \n",
       "759       760             Taxi        26.09   27.626198  37.978293  23.735308   \n",
       "760       761              Car         5.64   25.387158  37.978300  23.735303   \n",
       "\n",
       "       speed   lon_acc   lat_acc   time  \n",
       "756  29.2432   -0.0731   -0.0043  758.0  \n",
       "757  26.1715    0.0000    0.0000  758.4  \n",
       "758  30.6186    0.0266   -0.2295  759.8  \n",
       "759  29.5630    0.0226   -0.0522  761.6  \n",
       "760  26.7233   -0.0000    0.0000  764.2  "
      ]
     },
     "execution_count": 31,
     "metadata": {},
     "output_type": "execute_result"
    }
   ],
   "source": [
    "df2.tail()"
   ]
  },
  {
   "cell_type": "code",
   "execution_count": null,
   "metadata": {},
   "outputs": [],
   "source": []
  }
 ],
 "metadata": {
  "kernelspec": {
   "display_name": "Python 3.10.4 64-bit",
   "language": "python",
   "name": "python3"
  },
  "language_info": {
   "codemirror_mode": {
    "name": "ipython",
    "version": 3
   },
   "file_extension": ".py",
   "mimetype": "text/x-python",
   "name": "python",
   "nbconvert_exporter": "python",
   "pygments_lexer": "ipython3",
   "version": "3.10.4"
  },
  "orig_nbformat": 4,
  "vscode": {
   "interpreter": {
    "hash": "916dbcbb3f70747c44a77c7bcd40155683ae19c65e1c03b4aa3499c5328201f1"
   }
  }
 },
 "nbformat": 4,
 "nbformat_minor": 2
}
